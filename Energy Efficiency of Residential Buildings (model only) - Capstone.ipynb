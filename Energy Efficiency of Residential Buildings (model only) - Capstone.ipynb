{
 "cells": [
  {
   "cell_type": "markdown",
   "id": "158b6e75",
   "metadata": {},
   "source": [
    "# Predicting the heating and cooling loads of a residential structure, as well as classifying the inherent efficiency of the structure based on the input data. "
   ]
  },
  {
   "cell_type": "markdown",
   "id": "32a60c8b",
   "metadata": {},
   "source": [
    "### How to use the model\n",
    "Run the code below. When prompted, input the following data feature values: \n",
    "* Relative Compactness\n",
    "* Surface Area\n",
    "* Wall Area\n",
    "* Roof Area\n",
    "* Overall Height\n",
    "* Orientation\n",
    "* Glazing Area\n",
    "* Glazing Area Distribution\n",
    "\n",
    "The model will use a Random Forest regressor model to predict the heating load and cooling load of the structure, and will use Logistic Regression to predict whether or not the structure is efficient or inefficient. That is to say, above or below the mean distribution of features the model was trained on. "
   ]
  },
  {
   "cell_type": "code",
   "execution_count": 1,
   "id": "8939ade6",
   "metadata": {},
   "outputs": [],
   "source": [
    "import warnings\n",
    "warnings.filterwarnings('ignore')\n",
    "\n",
    "\n",
    "import numpy as np\n",
    "import pandas as pd\n",
    "\n",
    "from sklearn.preprocessing import OneHotEncoder, StandardScaler, PolynomialFeatures\n",
    "from sklearn.model_selection import train_test_split, GridSearchCV\n",
    "from sklearn.linear_model import LogisticRegression, LinearRegression\n",
    "from sklearn.metrics import mean_squared_error, r2_score, classification_report, accuracy_score\n",
    "from sklearn.model_selection import cross_val_score\n",
    "from sklearn.ensemble import RandomForestRegressor"
   ]
  },
  {
   "cell_type": "code",
   "execution_count": 2,
   "id": "2ff60fcc",
   "metadata": {},
   "outputs": [],
   "source": [
    "df = pd.read_csv('data/energy_efficiency_data.csv')"
   ]
  },
  {
   "cell_type": "markdown",
   "id": "0db6d64f",
   "metadata": {},
   "source": [
    "# Training a Logistic Regression model to predict if a structure is efficient or inefficient"
   ]
  },
  {
   "cell_type": "markdown",
   "id": "6153836d",
   "metadata": {},
   "source": [
    "# Try the model on a new data entry!\n",
    "\n",
    "Run the following block of code to do manual feature entry and predictions on a new structure. "
   ]
  },
  {
   "cell_type": "code",
   "execution_count": null,
   "id": "463697ef",
   "metadata": {},
   "outputs": [],
   "source": []
  },
  {
   "cell_type": "code",
   "execution_count": 3,
   "id": "be9d4181",
   "metadata": {},
   "outputs": [
    {
     "name": "stdout",
     "output_type": "stream",
     "text": [
      "Please enter the following data fields:\n",
      "Relative Compactness: .66\n",
      "Surface Area: 759.5\n",
      "Wall Area: 318.5\n",
      "Roof Area: 220.5\n",
      "Overall Height: 3.5\n",
      "Orientation (integer value): 4\n",
      "Glazing Area: 0\n",
      "Glazing Area Distribution (integer value): 0\n",
      "Prediction Results:\n",
      "Predicted Heating Load: 7.304900000000007\n",
      "Predicted Cooling Load: 12.295800000000002\n",
      "Heating Efficiency: Efficient\n",
      "Cooling Efficiency: Efficient\n"
     ]
    }
   ],
   "source": [
    "\n",
    "# Calculate the Means\n",
    "y_heating = df['Heating_Load']\n",
    "y_cooling = df['Cooling_Load']\n",
    "heating_mean = y_heating.mean()\n",
    "cooling_mean = y_cooling.mean()\n",
    "\n",
    "# Create Binary Classes\n",
    "df['Heating_Load_Class'] = np.where(y_heating > heating_mean, 1, 0)\n",
    "df['Cooling_Load_Class'] = np.where(y_cooling > cooling_mean, 1, 0)\n",
    "\n",
    "# Prepare the feature set\n",
    "X = df.drop(columns=['Heating_Load', 'Cooling_Load', 'Heating_Load_Class', 'Cooling_Load_Class'])\n",
    "\n",
    "# Normalize the features\n",
    "scaler = StandardScaler()\n",
    "X_normalized = scaler.fit_transform(X)\n",
    "\n",
    "# Split the data for regression\n",
    "X_train_reg, X_test_reg, y_train_heating_reg, y_test_heating_reg = train_test_split(X, y_heating, test_size=0.2, random_state=42)\n",
    "_, _, y_train_cooling_reg, y_test_cooling_reg = train_test_split(X, y_cooling, test_size=0.2, random_state=42)\n",
    "\n",
    "# Standardize the regression data\n",
    "X_train_reg_scaled = scaler.fit_transform(X_train_reg)\n",
    "X_test_reg_scaled = scaler.transform(X_test_reg)\n",
    "\n",
    "# Train Random Forest Regressors for numeric predictions\n",
    "rf_heating = RandomForestRegressor(n_estimators=100, random_state=42)\n",
    "rf_heating.fit(X_train_reg_scaled, y_train_heating_reg)\n",
    "\n",
    "rf_cooling = RandomForestRegressor(n_estimators=100, random_state=42)\n",
    "rf_cooling.fit(X_train_reg_scaled, y_train_cooling_reg)\n",
    "\n",
    "# Split the data for classification\n",
    "X_train_class, X_test_class, y_train_heating_class, y_test_heating_class = train_test_split(X_normalized, df['Heating_Load_Class'], test_size=0.2, random_state=42)\n",
    "_, _, y_train_cooling_class, y_test_cooling_class = train_test_split(X_normalized, df['Cooling_Load_Class'], test_size=0.2, random_state=42)\n",
    "\n",
    "# Train Logistic Regression models for classification\n",
    "log_reg_heating = LogisticRegression(random_state=42)\n",
    "log_reg_heating.fit(X_train_class, y_train_heating_class)\n",
    "\n",
    "log_reg_cooling = LogisticRegression(random_state=42)\n",
    "log_reg_cooling.fit(X_train_class, y_train_cooling_class)\n",
    "\n",
    "# Function to get user input for a new data entry\n",
    "def get_user_input():\n",
    "    print(\"Please enter the following data fields:\")\n",
    "    relative_compactness = float(input(\"Relative Compactness: \"))\n",
    "    surface_area = float(input(\"Surface Area: \"))\n",
    "    wall_area = float(input(\"Wall Area: \"))\n",
    "    roof_area = float(input(\"Roof Area: \"))\n",
    "    overall_height = float(input(\"Overall Height: \"))\n",
    "    orientation = int(input(\"Orientation (integer value): \"))\n",
    "    glazing_area = float(input(\"Glazing Area: \"))\n",
    "    glazing_area_distribution = int(input(\"Glazing Area Distribution (integer value): \"))\n",
    "\n",
    "    new_data = [\n",
    "        relative_compactness, surface_area, wall_area,\n",
    "        roof_area, overall_height, orientation,\n",
    "        glazing_area, glazing_area_distribution\n",
    "    ]\n",
    "    return new_data\n",
    "\n",
    "# Function to predict efficiency and numeric values based on user input\n",
    "def predict_efficiency_and_loads(new_data):\n",
    "    # Ensure new_data is a numpy array and has the correct shape\n",
    "    new_data = np.array(new_data).reshape(1, -1)\n",
    "    \n",
    "    # Normalize the new input data\n",
    "    new_data_normalized = scaler.transform(new_data)\n",
    "    \n",
    "    # Predict using the trained Random Forest regression models\n",
    "    predicted_heating_load = rf_heating.predict(new_data_normalized)[0]\n",
    "    predicted_cooling_load = rf_cooling.predict(new_data_normalized)[0]\n",
    "    \n",
    "    # Classify based on whether predicted values are above or below the means\n",
    "    heating_efficiency = 'Efficient' if predicted_heating_load <= heating_mean else 'Inefficient'\n",
    "    cooling_efficiency = 'Efficient' if predicted_cooling_load <= cooling_mean else 'Inefficient'\n",
    "    \n",
    "    # Output predictions and classifications\n",
    "    result = {\n",
    "        'Predicted Heating Load': predicted_heating_load,\n",
    "        'Predicted Cooling Load': predicted_cooling_load,\n",
    "        'Heating Efficiency': heating_efficiency,\n",
    "        'Cooling Efficiency': cooling_efficiency\n",
    "    }\n",
    "    \n",
    "    return result\n",
    "\n",
    "# Get user input\n",
    "new_data_entry = get_user_input()\n",
    "\n",
    "# Predict efficiency and numeric values for the new data entry\n",
    "prediction_results = predict_efficiency_and_loads(new_data_entry)\n",
    "\n",
    "# Print the prediction results\n",
    "print(\"Prediction Results:\")\n",
    "for key, value in prediction_results.items():\n",
    "    print(f\"{key}: {value}\")\n"
   ]
  },
  {
   "cell_type": "markdown",
   "id": "1efcc012",
   "metadata": {},
   "source": [
    "# Using Random Forests to predict the loads and using Logistic Regression to predict the efficiency"
   ]
  },
  {
   "cell_type": "code",
   "execution_count": null,
   "id": "ec622eb2",
   "metadata": {},
   "outputs": [],
   "source": []
  },
  {
   "cell_type": "code",
   "execution_count": null,
   "id": "66913689",
   "metadata": {},
   "outputs": [],
   "source": []
  },
  {
   "cell_type": "code",
   "execution_count": null,
   "id": "05fe72ba",
   "metadata": {},
   "outputs": [],
   "source": []
  },
  {
   "cell_type": "code",
   "execution_count": null,
   "id": "708d1c96",
   "metadata": {},
   "outputs": [],
   "source": []
  },
  {
   "cell_type": "code",
   "execution_count": null,
   "id": "52b45949",
   "metadata": {},
   "outputs": [],
   "source": []
  },
  {
   "cell_type": "code",
   "execution_count": null,
   "id": "003dd37c",
   "metadata": {},
   "outputs": [],
   "source": []
  },
  {
   "cell_type": "code",
   "execution_count": null,
   "id": "0f261ca9",
   "metadata": {},
   "outputs": [],
   "source": []
  },
  {
   "cell_type": "code",
   "execution_count": null,
   "id": "6e7f0e11",
   "metadata": {},
   "outputs": [],
   "source": []
  },
  {
   "cell_type": "code",
   "execution_count": null,
   "id": "10594e36",
   "metadata": {},
   "outputs": [],
   "source": []
  },
  {
   "cell_type": "code",
   "execution_count": null,
   "id": "46a622f8",
   "metadata": {},
   "outputs": [],
   "source": []
  },
  {
   "cell_type": "code",
   "execution_count": null,
   "id": "3bc60d11",
   "metadata": {},
   "outputs": [],
   "source": []
  },
  {
   "cell_type": "code",
   "execution_count": null,
   "id": "28cd1dcd",
   "metadata": {},
   "outputs": [],
   "source": []
  },
  {
   "cell_type": "code",
   "execution_count": null,
   "id": "f3cbe5ab",
   "metadata": {},
   "outputs": [],
   "source": []
  },
  {
   "cell_type": "code",
   "execution_count": null,
   "id": "420b441e",
   "metadata": {},
   "outputs": [],
   "source": []
  },
  {
   "cell_type": "code",
   "execution_count": null,
   "id": "53ff9c1b",
   "metadata": {},
   "outputs": [],
   "source": []
  },
  {
   "cell_type": "code",
   "execution_count": null,
   "id": "18a3157a",
   "metadata": {},
   "outputs": [],
   "source": []
  },
  {
   "cell_type": "code",
   "execution_count": null,
   "id": "c24e9d03",
   "metadata": {},
   "outputs": [],
   "source": []
  },
  {
   "cell_type": "markdown",
   "id": "75e02c8e",
   "metadata": {},
   "source": [
    "## Cross validation scores on these models"
   ]
  },
  {
   "cell_type": "code",
   "execution_count": 4,
   "id": "c610fd63",
   "metadata": {},
   "outputs": [
    {
     "name": "stdout",
     "output_type": "stream",
     "text": [
      "Cross-validated R2 scores for Heating Load Prediction (Random Forest): [0.99773455 0.99711065 0.99736547 0.99780473 0.99658358]\n",
      "Mean cross-validated R2 score for Heating Load Prediction (Random Forest): 0.9973197960731153\n",
      "Cross-validated R2 scores for Cooling Load Prediction (Random Forest): [0.97176734 0.96922604 0.97091524 0.95813164 0.96808994]\n",
      "Mean cross-validated R2 score for Cooling Load Prediction (Random Forest): 0.9676260412022117\n"
     ]
    }
   ],
   "source": [
    "# Cross-validation for heating load prediction\n",
    "cv_scores_heating_rf = cross_val_score(rf_heating, X_train_reg_scaled, y_train_heating_reg, cv=5, scoring='r2')\n",
    "print(\"Cross-validated R2 scores for Heating Load Prediction (Random Forest):\", cv_scores_heating_rf)\n",
    "print(\"Mean cross-validated R2 score for Heating Load Prediction (Random Forest):\", np.mean(cv_scores_heating_rf))\n",
    "\n",
    "# Cross-validation for cooling load prediction\n",
    "cv_scores_cooling_rf = cross_val_score(rf_cooling, X_train_reg_scaled, y_train_cooling_reg, cv=5, scoring='r2')\n",
    "print(\"Cross-validated R2 scores for Cooling Load Prediction (Random Forest):\", cv_scores_cooling_rf)\n",
    "print(\"Mean cross-validated R2 score for Cooling Load Prediction (Random Forest):\", np.mean(cv_scores_cooling_rf))"
   ]
  },
  {
   "cell_type": "code",
   "execution_count": 5,
   "id": "468ac73b",
   "metadata": {},
   "outputs": [
    {
     "name": "stdout",
     "output_type": "stream",
     "text": [
      "Cross-validated accuracy for Heating Load Classification (Logistic Regression): [0.98373984 0.99186992 0.95934959 0.99186992 0.99180328]\n",
      "Mean cross-validated accuracy for Heating Load Classification (Logistic Regression): 0.9837265093962415\n",
      "Cross-validated accuracy for Cooling Load Classification (Logistic Regression): [1.         0.98373984 0.98373984 0.99186992 0.97540984]\n",
      "Mean cross-validated accuracy for Cooling Load Classification (Logistic Regression): 0.9869518859123018\n"
     ]
    }
   ],
   "source": [
    "\n",
    "# Cross-validation for heating load classification\n",
    "cv_scores_heating_log_reg = cross_val_score(log_reg_heating, X_train_class, y_train_heating_class, cv=5, scoring='accuracy')\n",
    "print(\"Cross-validated accuracy for Heating Load Classification (Logistic Regression):\", cv_scores_heating_log_reg)\n",
    "print(\"Mean cross-validated accuracy for Heating Load Classification (Logistic Regression):\", np.mean(cv_scores_heating_log_reg))\n",
    "\n",
    "# Cross-validation for cooling load classification\n",
    "cv_scores_cooling_log_reg = cross_val_score(log_reg_cooling, X_train_class, y_train_cooling_class, cv=5, scoring='accuracy')\n",
    "print(\"Cross-validated accuracy for Cooling Load Classification (Logistic Regression):\", cv_scores_cooling_log_reg)\n",
    "print(\"Mean cross-validated accuracy for Cooling Load Classification (Logistic Regression):\", np.mean(cv_scores_cooling_log_reg))\n"
   ]
  },
  {
   "cell_type": "code",
   "execution_count": null,
   "id": "77f43095",
   "metadata": {},
   "outputs": [],
   "source": []
  }
 ],
 "metadata": {
  "kernelspec": {
   "display_name": "Python 3 (ipykernel)",
   "language": "python",
   "name": "python3"
  },
  "language_info": {
   "codemirror_mode": {
    "name": "ipython",
    "version": 3
   },
   "file_extension": ".py",
   "mimetype": "text/x-python",
   "name": "python",
   "nbconvert_exporter": "python",
   "pygments_lexer": "ipython3",
   "version": "3.11.5"
  }
 },
 "nbformat": 4,
 "nbformat_minor": 5
}
