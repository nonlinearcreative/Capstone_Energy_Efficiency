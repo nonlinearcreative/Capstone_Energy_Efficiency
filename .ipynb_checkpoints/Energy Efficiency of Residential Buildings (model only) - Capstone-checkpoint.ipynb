{
 "cells": [
  {
   "cell_type": "markdown",
   "id": "630e3d53",
   "metadata": {},
   "source": [
    "# Predicting the heating and cooling loads of a residential structure, as well as the inherent efficiency of the structure based on the input data. "
   ]
  },
  {
   "cell_type": "markdown",
   "id": "7ed73268",
   "metadata": {},
   "source": [
    "### How to use the model\n",
    "Run the code below. When prompted, input the following data feature values: \n",
    "* Relative Compactness\n",
    "* Surface Area\n",
    "* Wall Area\n",
    "* Roof Area\n",
    "* Overall Height\n",
    "* Orientation\n",
    "* Glazing Area\n",
    "* Glazing Area Distribution\n",
    "\n",
    "The model will use a Random Forest regressor model to predict the heating load and cooling load of the structure, and will use Logistic Regression to predict whether or not the structure is efficient or inefficient. That is to say, above or below the mean distribution of features the model was trained on. "
   ]
  },
  {
   "cell_type": "code",
   "execution_count": 7,
   "id": "a49c141f",
   "metadata": {},
   "outputs": [],
   "source": [
    "import warnings\n",
    "warnings.filterwarnings('ignore')\n",
    "\n",
    "\n",
    "import numpy as np\n",
    "import pandas as pd\n",
    "\n",
    "from sklearn.preprocessing import OneHotEncoder, StandardScaler, PolynomialFeatures\n",
    "from sklearn.model_selection import train_test_split, GridSearchCV\n",
    "from sklearn.linear_model import LogisticRegression, LinearRegression\n",
    "from sklearn.metrics import mean_squared_error, r2_score, classification_report, accuracy_score\n",
    "from sklearn.model_selection import cross_val_score\n",
    "from sklearn.ensemble import RandomForestRegressor"
   ]
  },
  {
   "cell_type": "code",
   "execution_count": 8,
   "id": "5c84a20f",
   "metadata": {},
   "outputs": [],
   "source": [
    "df = pd.read_csv('data/energy_efficiency_data.csv')"
   ]
  },
  {
   "cell_type": "code",
   "execution_count": 9,
   "id": "acd8be73",
   "metadata": {},
   "outputs": [],
   "source": [
    "y_heating = df['Heating_Load']\n",
    "y_cooling = df['Cooling_Load']\n",
    "# Calculate the Means\n",
    "heating_mean = y_heating.mean()\n",
    "cooling_mean = y_cooling.mean()\n",
    "\n",
    "# Create Binary Classes\n",
    "df['Heating_Load_Class'] = np.where(y_heating > heating_mean, 1, 0)\n",
    "df['Cooling_Load_Class'] = np.where(y_cooling > cooling_mean, 1, 0)\n",
    "\n",
    "# Drop the original Heating_Load and Cooling_Load columns\n",
    "X = df.drop(columns=['Heating_Load', 'Cooling_Load', 'Heating_Load_Class', 'Cooling_Load_Class'])\n",
    "\n",
    "# Normalize the Features\n",
    "scaler = StandardScaler()\n",
    "X_normalized = scaler.fit_transform(X)\n",
    "\n",
    "# Prepare the data for model training\n",
    "y_heating_class = df['Heating_Load_Class']\n",
    "y_cooling_class = df['Cooling_Load_Class']"
   ]
  },
  {
   "cell_type": "code",
   "execution_count": 10,
   "id": "57f23ec7",
   "metadata": {},
   "outputs": [],
   "source": [
    "# Split the data for heating load classification\n",
    "X_train_heating, X_test_heating, y_train_heating_class, y_test_heating_class = train_test_split(X, y_heating_class, test_size=0.2, random_state=42)\n",
    "\n",
    "# Split the data for cooling load classification\n",
    "X_train_cooling, X_test_cooling, y_train_cooling_class, y_test_cooling_class = train_test_split(X, y_cooling_class, test_size=0.2, random_state=42)\n",
    "\n",
    "# Standardize the features\n",
    "scaler = StandardScaler()\n",
    "X_train_heating_scaled = scaler.fit_transform(X_train_heating)\n",
    "X_test_heating_scaled = scaler.transform(X_test_heating)\n",
    "X_train_cooling_scaled = scaler.fit_transform(X_train_cooling)\n",
    "X_test_cooling_scaled = scaler.transform(X_test_cooling)\n"
   ]
  },
  {
   "cell_type": "markdown",
   "id": "726c6c62",
   "metadata": {},
   "source": [
    "# Training a Logistic Regression model to predict if a structure is efficient or inefficient"
   ]
  },
  {
   "cell_type": "code",
   "execution_count": 11,
   "id": "eb74f4a4",
   "metadata": {},
   "outputs": [],
   "source": [
    "\n",
    "# Train the Logistic Regression model for heating load classification\n",
    "log_reg_heating = LogisticRegression(random_state=42)\n",
    "log_reg_heating.fit(X_train_heating_scaled, y_train_heating_class)\n",
    "\n",
    "# Train the Logistic Regression model for cooling load classification\n",
    "log_reg_cooling = LogisticRegression(random_state=42)\n",
    "log_reg_cooling.fit(X_train_cooling_scaled, y_train_cooling_class)\n",
    "\n",
    "# Predict and evaluate for heating load classification\n",
    "y_pred_heating_log_reg = log_reg_heating.predict(X_test_heating_scaled)\n",
    "# Predict and evaluate for cooling load classification\n",
    "y_pred_cooling_log_reg = log_reg_cooling.predict(X_test_cooling_scaled)\n",
    "# Cross-validation for heating load classification\n",
    "cv_scores_heating_log_reg = cross_val_score(log_reg_heating, X_train_heating_scaled, y_train_heating_class, cv=5)\n",
    "# Cross-validation for cooling load classification\n",
    "cv_scores_cooling_log_reg = cross_val_score(log_reg_cooling, X_train_cooling_scaled, y_train_cooling_class, cv=5)"
   ]
  },
  {
   "cell_type": "markdown",
   "id": "33b7945d",
   "metadata": {},
   "source": [
    "# Try the model on a new data entry!\n",
    "\n",
    "Run the following block of code to do manual feature entry and predictions on a new structure. "
   ]
  },
  {
   "cell_type": "code",
   "execution_count": 15,
   "id": "bbd91c1b",
   "metadata": {},
   "outputs": [
    {
     "name": "stdout",
     "output_type": "stream",
     "text": [
      "Please enter the following data fields:\n",
      "Relative Compactness: .76\n",
      "Surface Area: 661.5\n",
      "Wall Area: 416.5\n",
      "Roof Area: 122.5\n",
      "Overall Height: 7\n",
      "Orientation (integer value): 4\n",
      "Glazing Area: .1\n",
      "Glazing Area Distribution (integer value): 4\n",
      "Prediction Results:\n",
      "Predicted Heating Load: 32.925100000000015\n",
      "Predicted Cooling Load: 34.07199999999998\n",
      "Heating Efficiency: Inefficient\n",
      "Cooling Efficiency: Inefficient\n"
     ]
    }
   ],
   "source": [
    "\n",
    "# Train Random Forest Regressors for numeric predictions\n",
    "rf_heating = RandomForestRegressor(n_estimators=100, random_state=42)\n",
    "rf_heating.fit(X_train_reg_scaled, y_train_heating_reg)\n",
    "\n",
    "rf_cooling = RandomForestRegressor(n_estimators=100, random_state=42)\n",
    "rf_cooling.fit(X_train_reg_scaled, y_train_cooling_reg)\n",
    "\n",
    "# Split the data for classification\n",
    "X_train_class, X_test_class, y_train_heating_class, y_test_heating_class = train_test_split(X_normalized, df['Heating_Load_Class'], test_size=0.2, random_state=42)\n",
    "_, _, y_train_cooling_class, y_test_cooling_class = train_test_split(X_normalized, df['Cooling_Load_Class'], test_size=0.2, random_state=42)\n",
    "\n",
    "# Train Logistic Regression models for classification\n",
    "log_reg_heating = LogisticRegression(random_state=42)\n",
    "log_reg_heating.fit(X_train_class, y_train_heating_class)\n",
    "\n",
    "log_reg_cooling = LogisticRegression(random_state=42)\n",
    "log_reg_cooling.fit(X_train_class, y_train_cooling_class)\n",
    "\n",
    "# Function to get user input for a new data entry\n",
    "def get_user_input():\n",
    "    print(\"Please enter the following data fields:\")\n",
    "    relative_compactness = float(input(\"Relative Compactness: \"))\n",
    "    surface_area = float(input(\"Surface Area: \"))\n",
    "    wall_area = float(input(\"Wall Area: \"))\n",
    "    roof_area = float(input(\"Roof Area: \"))\n",
    "    overall_height = float(input(\"Overall Height: \"))\n",
    "    orientation = int(input(\"Orientation (integer value): \"))\n",
    "    glazing_area = float(input(\"Glazing Area: \"))\n",
    "    glazing_area_distribution = int(input(\"Glazing Area Distribution (integer value): \"))\n",
    "\n",
    "    new_data = [\n",
    "        relative_compactness, surface_area, wall_area,\n",
    "        roof_area, overall_height, orientation,\n",
    "        glazing_area, glazing_area_distribution\n",
    "    ]\n",
    "    return new_data\n",
    "\n",
    "# Function to predict efficiency and numeric values based on user input\n",
    "def predict_efficiency_and_loads(new_data):\n",
    "    # Ensure new_data is a numpy array and has the correct shape\n",
    "    new_data = np.array(new_data).reshape(1, -1)\n",
    "    \n",
    "    # Normalize the new input data\n",
    "    new_data_normalized = scaler.transform(new_data)\n",
    "    \n",
    "    # Predict using the trained Random Forest regression models\n",
    "    predicted_heating_load = rf_heating.predict(new_data_normalized)[0]\n",
    "    predicted_cooling_load = rf_cooling.predict(new_data_normalized)[0]\n",
    "    \n",
    "    # Predict probabilities using the trained logistic regression models\n",
    "    #predicted_heating_class_prob = log_reg_heating.predict_proba(new_data_normalized)[0][1]  # Probability of being efficient\n",
    "    #predicted_cooling_class_prob = log_reg_cooling.predict_proba(new_data_normalized)[0][1]  # Probability of being efficient\n",
    "    \n",
    "    # Classify based on whether predicted values are above or below the means\n",
    "    heating_efficiency = 'Efficient' if predicted_heating_load <= heating_mean else 'Inefficient'\n",
    "    cooling_efficiency = 'Efficient' if predicted_cooling_load <= cooling_mean else 'Inefficient'\n",
    "    \n",
    "    # Output predictions and classifications\n",
    "    result = {\n",
    "        'Predicted Heating Load': predicted_heating_load,\n",
    "        'Predicted Cooling Load': predicted_cooling_load,\n",
    "        'Heating Efficiency': heating_efficiency,\n",
    "        'Cooling Efficiency': cooling_efficiency\n",
    "    }\n",
    "    \n",
    "    return result\n",
    "\n",
    "# Get user input\n",
    "new_data_entry = get_user_input()\n",
    "\n",
    "# Predict efficiency and numeric values for the new data entry\n",
    "prediction_results = predict_efficiency_and_loads(new_data_entry)\n",
    "\n",
    "# Print the prediction results\n",
    "print(\"Prediction Results:\")\n",
    "for key, value in prediction_results.items():\n",
    "    print(f\"{key}: {value}\")\n"
   ]
  },
  {
   "cell_type": "code",
   "execution_count": null,
   "id": "ee95066d",
   "metadata": {},
   "outputs": [],
   "source": []
  },
  {
   "cell_type": "code",
   "execution_count": null,
   "id": "64ff1189",
   "metadata": {},
   "outputs": [],
   "source": []
  },
  {
   "cell_type": "code",
   "execution_count": null,
   "id": "4872941d",
   "metadata": {},
   "outputs": [],
   "source": []
  },
  {
   "cell_type": "code",
   "execution_count": null,
   "id": "53ea40f2",
   "metadata": {},
   "outputs": [],
   "source": []
  },
  {
   "cell_type": "code",
   "execution_count": null,
   "id": "4fd47fee",
   "metadata": {},
   "outputs": [],
   "source": []
  },
  {
   "cell_type": "code",
   "execution_count": null,
   "id": "a65bb27f",
   "metadata": {},
   "outputs": [],
   "source": []
  },
  {
   "cell_type": "code",
   "execution_count": null,
   "id": "ce032c37",
   "metadata": {},
   "outputs": [],
   "source": []
  },
  {
   "cell_type": "code",
   "execution_count": null,
   "id": "160d2ade",
   "metadata": {},
   "outputs": [],
   "source": []
  },
  {
   "cell_type": "code",
   "execution_count": null,
   "id": "fc3e7460",
   "metadata": {},
   "outputs": [],
   "source": []
  },
  {
   "cell_type": "code",
   "execution_count": null,
   "id": "1e2bc5a1",
   "metadata": {},
   "outputs": [],
   "source": []
  },
  {
   "cell_type": "code",
   "execution_count": null,
   "id": "23ecc045",
   "metadata": {},
   "outputs": [],
   "source": []
  },
  {
   "cell_type": "code",
   "execution_count": null,
   "id": "5cc27e73",
   "metadata": {},
   "outputs": [],
   "source": []
  },
  {
   "cell_type": "code",
   "execution_count": null,
   "id": "137545a1",
   "metadata": {},
   "outputs": [],
   "source": []
  },
  {
   "cell_type": "code",
   "execution_count": null,
   "id": "22f7f781",
   "metadata": {},
   "outputs": [],
   "source": []
  },
  {
   "cell_type": "code",
   "execution_count": null,
   "id": "21b6c72e",
   "metadata": {},
   "outputs": [],
   "source": []
  },
  {
   "cell_type": "code",
   "execution_count": null,
   "id": "f6a8f09a",
   "metadata": {},
   "outputs": [],
   "source": []
  },
  {
   "cell_type": "code",
   "execution_count": null,
   "id": "697dc874",
   "metadata": {},
   "outputs": [],
   "source": []
  },
  {
   "cell_type": "markdown",
   "id": "383e6a67",
   "metadata": {},
   "source": [
    "## Cross validation scores on these models"
   ]
  },
  {
   "cell_type": "code",
   "execution_count": 16,
   "id": "970ae612",
   "metadata": {},
   "outputs": [
    {
     "name": "stdout",
     "output_type": "stream",
     "text": [
      "Cross-validated R2 scores for Heating Load Prediction (Random Forest): [0.99773455 0.99711065 0.99736547 0.99780473 0.99658358]\n",
      "Mean cross-validated R2 score for Heating Load Prediction (Random Forest): 0.9973197960731153\n",
      "Cross-validated R2 scores for Cooling Load Prediction (Random Forest): [0.97176734 0.96922604 0.97091524 0.95813164 0.96808994]\n",
      "Mean cross-validated R2 score for Cooling Load Prediction (Random Forest): 0.9676260412022117\n"
     ]
    }
   ],
   "source": [
    "# Cross-validation for heating load prediction\n",
    "cv_scores_heating_rf = cross_val_score(rf_heating, X_train_reg_scaled, y_train_heating_reg, cv=5, scoring='r2')\n",
    "print(\"Cross-validated R2 scores for Heating Load Prediction (Random Forest):\", cv_scores_heating_rf)\n",
    "print(\"Mean cross-validated R2 score for Heating Load Prediction (Random Forest):\", np.mean(cv_scores_heating_rf))\n",
    "\n",
    "# Cross-validation for cooling load prediction\n",
    "cv_scores_cooling_rf = cross_val_score(rf_cooling, X_train_reg_scaled, y_train_cooling_reg, cv=5, scoring='r2')\n",
    "print(\"Cross-validated R2 scores for Cooling Load Prediction (Random Forest):\", cv_scores_cooling_rf)\n",
    "print(\"Mean cross-validated R2 score for Cooling Load Prediction (Random Forest):\", np.mean(cv_scores_cooling_rf))"
   ]
  },
  {
   "cell_type": "code",
   "execution_count": 17,
   "id": "166fb38e",
   "metadata": {},
   "outputs": [
    {
     "name": "stdout",
     "output_type": "stream",
     "text": [
      "Cross-validated accuracy for Heating Load Classification (Logistic Regression): [0.98373984 0.99186992 0.95934959 0.99186992 0.99180328]\n",
      "Mean cross-validated accuracy for Heating Load Classification (Logistic Regression): 0.9837265093962415\n",
      "Cross-validated accuracy for Cooling Load Classification (Logistic Regression): [1.         0.98373984 0.98373984 0.99186992 0.97540984]\n",
      "Mean cross-validated accuracy for Cooling Load Classification (Logistic Regression): 0.9869518859123018\n"
     ]
    }
   ],
   "source": [
    "\n",
    "# Cross-validation for heating load classification\n",
    "cv_scores_heating_log_reg = cross_val_score(log_reg_heating, X_train_class, y_train_heating_class, cv=5, scoring='accuracy')\n",
    "print(\"Cross-validated accuracy for Heating Load Classification (Logistic Regression):\", cv_scores_heating_log_reg)\n",
    "print(\"Mean cross-validated accuracy for Heating Load Classification (Logistic Regression):\", np.mean(cv_scores_heating_log_reg))\n",
    "\n",
    "# Cross-validation for cooling load classification\n",
    "cv_scores_cooling_log_reg = cross_val_score(log_reg_cooling, X_train_class, y_train_cooling_class, cv=5, scoring='accuracy')\n",
    "print(\"Cross-validated accuracy for Cooling Load Classification (Logistic Regression):\", cv_scores_cooling_log_reg)\n",
    "print(\"Mean cross-validated accuracy for Cooling Load Classification (Logistic Regression):\", np.mean(cv_scores_cooling_log_reg))\n"
   ]
  },
  {
   "cell_type": "markdown",
   "id": "be2c8bc1",
   "metadata": {},
   "source": []
  },
  {
   "cell_type": "code",
   "execution_count": 18,
   "id": "e1c46322",
   "metadata": {},
   "outputs": [
    {
     "name": "stdout",
     "output_type": "stream",
     "text": [
      "Heating Load Classification Report (Logistic Regression):\n",
      "              precision    recall  f1-score   support\n",
      "\n",
      "           0       1.00      0.97      0.99        75\n",
      "           1       0.98      1.00      0.99        79\n",
      "\n",
      "    accuracy                           0.99       154\n",
      "   macro avg       0.99      0.99      0.99       154\n",
      "weighted avg       0.99      0.99      0.99       154\n",
      "\n",
      "Heating Load Accuracy (Logistic Regression): 0.987012987012987\n",
      "Heating Load Precision (Logistic Regression): 0.9753086419753086\n",
      "Heating Load Recall (Logistic Regression): 1.0\n",
      "Heating Load F1-Score (Logistic Regression): 0.9875\n",
      "Cooling Load Classification Report (Logistic Regression):\n",
      "              precision    recall  f1-score   support\n",
      "\n",
      "           0       1.00      0.97      0.99        74\n",
      "           1       0.98      1.00      0.99        80\n",
      "\n",
      "    accuracy                           0.99       154\n",
      "   macro avg       0.99      0.99      0.99       154\n",
      "weighted avg       0.99      0.99      0.99       154\n",
      "\n",
      "Cooling Load Accuracy (Logistic Regression): 0.987012987012987\n",
      "Cooling Load Precision (Logistic Regression): 0.975609756097561\n",
      "Cooling Load Recall (Logistic Regression): 1.0\n",
      "Cooling Load F1-Score (Logistic Regression): 0.9876543209876543\n"
     ]
    }
   ],
   "source": [
    "from sklearn.metrics import classification_report, accuracy_score, precision_score, recall_score, f1_score\n",
    "\n",
    "# Predict and evaluate for heating load classification\n",
    "y_pred_heating_log_reg = log_reg_heating.predict(X_test_class)\n",
    "print(\"Heating Load Classification Report (Logistic Regression):\")\n",
    "print(classification_report(y_test_heating_class, y_pred_heating_log_reg))\n",
    "print(\"Heating Load Accuracy (Logistic Regression):\", accuracy_score(y_test_heating_class, y_pred_heating_log_reg))\n",
    "print(\"Heating Load Precision (Logistic Regression):\", precision_score(y_test_heating_class, y_pred_heating_log_reg))\n",
    "print(\"Heating Load Recall (Logistic Regression):\", recall_score(y_test_heating_class, y_pred_heating_log_reg))\n",
    "print(\"Heating Load F1-Score (Logistic Regression):\", f1_score(y_test_heating_class, y_pred_heating_log_reg))\n",
    "\n",
    "# Predict and evaluate for cooling load classification\n",
    "y_pred_cooling_log_reg = log_reg_cooling.predict(X_test_class)\n",
    "print(\"Cooling Load Classification Report (Logistic Regression):\")\n",
    "print(classification_report(y_test_cooling_class, y_pred_cooling_log_reg))\n",
    "print(\"Cooling Load Accuracy (Logistic Regression):\", accuracy_score(y_test_cooling_class, y_pred_cooling_log_reg))\n",
    "print(\"Cooling Load Precision (Logistic Regression):\", precision_score(y_test_cooling_class, y_pred_cooling_log_reg))\n",
    "print(\"Cooling Load Recall (Logistic Regression):\", recall_score(y_test_cooling_class, y_pred_cooling_log_reg))\n",
    "print(\"Cooling Load F1-Score (Logistic Regression):\", f1_score(y_test_cooling_class, y_pred_cooling_log_reg))\n"
   ]
  },
  {
   "cell_type": "markdown",
   "id": "c6691669",
   "metadata": {},
   "source": []
  }
 ],
 "metadata": {
  "kernelspec": {
   "display_name": "Python 3 (ipykernel)",
   "language": "python",
   "name": "python3"
  },
  "language_info": {
   "codemirror_mode": {
    "name": "ipython",
    "version": 3
   },
   "file_extension": ".py",
   "mimetype": "text/x-python",
   "name": "python",
   "nbconvert_exporter": "python",
   "pygments_lexer": "ipython3",
   "version": "3.11.5"
  }
 },
 "nbformat": 4,
 "nbformat_minor": 5
}
